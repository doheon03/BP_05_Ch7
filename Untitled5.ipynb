{
  "nbformat": 4,
  "nbformat_minor": 0,
  "metadata": {
    "colab": {
      "provenance": [],
      "authorship_tag": "ABX9TyMVa6Kax1HweUEqVFRXhcPM",
      "include_colab_link": true
    },
    "kernelspec": {
      "name": "python3",
      "display_name": "Python 3"
    },
    "language_info": {
      "name": "python"
    }
  },
  "cells": [
    {
      "cell_type": "markdown",
      "metadata": {
        "id": "view-in-github",
        "colab_type": "text"
      },
      "source": [
        "<a href=\"https://colab.research.google.com/github/doheon03/BP_05_Ch7/blob/main/Untitled5.ipynb\" target=\"_parent\"><img src=\"https://colab.research.google.com/assets/colab-badge.svg\" alt=\"Open In Colab\"/></a>"
      ]
    },
    {
      "cell_type": "markdown",
      "source": [
        "1.눈사람을 그리는 함수를 작성하고 이 함수를 여러번 호출하여서 랜덤한 위치에 눈사람을 그리는 프로그램을 작성하여 보자.아래의 실행결과와 최대한 비슷하게 작성하여 보자."
      ],
      "metadata": {
        "id": "JC2coVmFGBlq"
      }
    },
    {
      "cell_type": "code",
      "source": [
        "import turtle\n",
        "t = turtle.Turtle()\n",
        "s = turtle.Screen()\n",
        " \n",
        "t.color('black', 'white')\n",
        "s.bgcolor('skyblue')\n",
        " \n",
        "for i in range(3):\n",
        "    draw_snowman(200*i-200,0)\n",
        "\n",
        "*1단\n",
        "t.up()\n",
        "    t.goto(x,y+110)\n",
        "    t.down()\n",
        " \n",
        "    t.begin_fill()\n",
        "    t.circle(35)\n",
        "    t.end_fill()\n",
        "\n",
        "*2단\n",
        "t.up()\n",
        "    t.goto(x,y+80)\n",
        "    t.down()\n",
        " \n",
        "    t.lt(20)\n",
        "    t.fd(90); t.fd(-90)\n",
        "    t.lt(115)\n",
        "    t.fd(90); t.fd(-90)\n",
        "    t.seth(0)\n",
        " \n",
        "    t.begin_fill()\n",
        "    t.circle(25)\n",
        "    t.end_fill()\n",
        "\n",
        "*3단\n",
        "t.up()\n",
        "    t.goto(x,y)\n",
        "    t.down()\n",
        " \n",
        "    t.begin_fill()\n",
        "    t.circle(50)\n",
        "    t.end_fill()"
      ],
      "metadata": {
        "id": "kVUE8IA3HZDV"
      },
      "execution_count": null,
      "outputs": []
    },
    {
      "cell_type": "markdown",
      "source": [
        "2.6각형을 그리는 draw_hexa()함수를 작성하고 이 함수를 호출하여서 다음과 같은 벌집 모양을 화면에 그려보자."
      ],
      "metadata": {
        "id": "MT3dS83GHuus"
      }
    },
    {
      "cell_type": "code",
      "source": [
        "import turtle\n",
        "t = turtle.Turtle()\n",
        "t.shape(\"turtle\")\n",
        "t.speed(0)\n",
        "def hexagon():\n",
        "  for i in range(6):\n",
        "   turtle.forward(100)\n",
        "   turtle.left(360/6)\n",
        "for i in range (6):\n",
        "   hexagon()\n",
        "   turtle.forward(100)\n",
        "   turtle.right(60)"
      ],
      "metadata": {
        "id": "58zQvQ9FIRwQ"
      },
      "execution_count": null,
      "outputs": []
    },
    {
      "cell_type": "markdown",
      "source": [
        "3.함수 f(x)=X^ +1 을 계산하는 함수를 작성하고 이함수를 이용하여 화면에 F(x)를 그려보자."
      ],
      "metadata": {
        "id": "8uN1qtbCI2lW"
      }
    },
    {
      "cell_type": "code",
      "source": [
        "import turtle\n",
        "t = turtle.Turtle()\n",
        "t.shape(\"turtle\")\n",
        "t.speed(0)\n",
        "def f(x):\n",
        " return x**2+1\n",
        "t.goto(200, 0)\n",
        "t.goto(0, 0)\n",
        "t.goto(0, 200)\n",
        "t.goto(0, 0)\n",
        "for x in range(150):\n",
        "      t.goto(x, int(0.01*f(x)))"
      ],
      "metadata": {
        "id": "6Gp4zSHvJgNI"
      },
      "execution_count": null,
      "outputs": []
    },
    {
      "cell_type": "markdown",
      "source": [
        "4.터틀 그래픽에서 거북이를 움직이지 않고 선을 긋는 함수 draw_line()을 정의하고 이것을 이용하여 다음과 같은 거미줄과 같은 모양을 그려보자.거북이는 항상 중앙에 위치한다."
      ],
      "metadata": {
        "id": "l4grys1kJlki"
      }
    },
    {
      "cell_type": "code",
      "source": [
        "import turtle\n",
        "t = turtle.Turtle()\n",
        "t.shape(\"turtle\")\n",
        "t.speed(0)\n",
        "\n",
        "def draw_line():\n",
        "    t.forward(100)\n",
        "    t.backward(100)\n",
        "for x in range(12):\n",
        "      t.right(30)\n",
        "      draw_line()\n"
      ],
      "metadata": {
        "id": "3ZNcNvBIJ2hQ"
      },
      "execution_count": null,
      "outputs": []
    },
    {
      "cell_type": "markdown",
      "source": [
        "5.다음과 같이 이름을 받아서 생일축하노래를 출력하는 happy Birthday ()를 작성하고 테스트 하시오."
      ],
      "metadata": {
        "id": "iFn1YNQDKI6R"
      }
    },
    {
      "cell_type": "code",
      "source": [
        "def happyBirthday(person):\n",
        "    print(\"Happy Birthday to you!\")\n",
        "    print(\"Happy Birthday to you!\")\n",
        "    print(\"Happy Birthday, dear \" + person)\n",
        "    print(\"Happy Birthday to you!\")\n",
        "    \n",
        "happyBirthday(\"홍길동\")"
      ],
      "metadata": {
        "id": "ctP9_yUmKdUW"
      },
      "execution_count": null,
      "outputs": []
    },
    {
      "cell_type": "markdown",
      "source": [
        "6.사용자 로부터 2개의 정수를 받아서 수학문제를 만들어서 화면에 출력하는 함수를 작성하고 테스트하시오."
      ],
      "metadata": {
        "id": "NewcwmaOKlJQ"
      }
    },
    {
      "cell_type": "code",
      "source": [
        "def sumProblem(x, y):\n",
        "    sum = x + y\n",
        "    sentence = \"정수\" + str(x) + \"+\"+str(y)+\"의 합은?\"\n",
        "    print(sentence)\n",
        "def main():\n",
        "    a = int(input(\"첫 번째 정수: \"))\n",
        "    b = int(input(\"두 번째 정수: \"))\n",
        "    sumProblem(a, b)\n",
        "\n",
        "main()"
      ],
      "metadata": {
        "id": "RwPRYv1tKxlP"
      },
      "execution_count": null,
      "outputs": []
    },
    {
      "cell_type": "markdown",
      "source": [
        "7.파이를 나타내는 PI=3.14를 전역변수로 하여 원의 면적을 계산하는 함수 circleArea(radius)과 원의 둘레를 계산하는 함수\n",
        "circleCircumference(radius)를 작성하고 테스트하라."
      ],
      "metadata": {
        "id": "dwtO2i1PLBhy"
      }
    },
    {
      "cell_type": "code",
      "source": [
        "PI = 3.14159265358979\n",
        "\n",
        "def circleArea(radius):\n",
        " return PI*radius*radius\n",
        "\n",
        "def circleCircumference(radius):\n",
        " return 2*PI*radius\n",
        "\n",
        "def main():\n",
        "  print('반지름이 5인 원의 면적:', circleArea(5))\n",
        "  print('반지름이 5인 원의 둘레:', circleCircumference(5))\n",
        "main()"
      ],
      "metadata": {
        "id": "CzsOvirYLer9"
      },
      "execution_count": null,
      "outputs": []
    },
    {
      "cell_type": "markdown",
      "source": [
        "8.덧셈,뺄셈,곱셈,나눗셈을 작성하는 함수를 각각 작성하고 테스트하라."
      ],
      "metadata": {
        "id": "6muvLR-3Ls7g"
      }
    },
    {
      "cell_type": "code",
      "source": [
        "def add(a, b):\n",
        "    print( \"(%d + %d)\" % (a, b), end=\" \")\n",
        "    return a + b\n",
        "\n",
        "def subtract(a, b):\n",
        "    print (\"(%d - %d)\" % (a, b), end=\" \")\n",
        "    return a - b\n",
        "\n",
        "def multiply(a, b):\n",
        "    print (\"(%d * %d)\" % (a, b), end=\" \")\n",
        "    return a * b\n",
        "\n",
        "def divide(a, b):\n",
        "    print (\"(%d / %d)\" % (a, b), end=\" \")\n",
        "    return a / b\n",
        "    \n",
        "what = add(20, 10)\n",
        "print(\"= \", what)"
      ],
      "metadata": {
        "id": "cMf3u2m4L-kO"
      },
      "execution_count": null,
      "outputs": []
    }
  ]
}